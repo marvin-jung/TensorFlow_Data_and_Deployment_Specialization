{
  "nbformat": 4,
  "nbformat_minor": 0,
  "metadata": {
    "accelerator": "GPU",
    "colab": {
      "provenance": [],
      "gpuType": "T4"
    },
    "kernelspec": {
      "display_name": "Python 3",
      "language": "python",
      "name": "python3"
    },
    "language_info": {
      "codemirror_mode": {
        "name": "ipython",
        "version": 3
      },
      "file_extension": ".py",
      "mimetype": "text/x-python",
      "name": "python",
      "nbconvert_exporter": "python",
      "pygments_lexer": "ipython3",
      "version": "3.8.5"
    },
    "gpuClass": "standard"
  },
  "cells": [
    {
      "cell_type": "code",
      "metadata": {
        "id": "zX4Kg8DUTKWO"
      },
      "source": [
        "#@title Licensed under the Apache License, Version 2.0 (the \"License\");\n",
        "# you may not use this file except in compliance with the License.\n",
        "# You may obtain a copy of the License at\n",
        "#\n",
        "# https://www.apache.org/licenses/LICENSE-2.0\n",
        "#\n",
        "# Unless required by applicable law or agreed to in writing, software\n",
        "# distributed under the License is distributed on an \"AS IS\" BASIS,\n",
        "# WITHOUT WARRANTIES OR CONDITIONS OF ANY KIND, either express or implied.\n",
        "# See the License for the specific language governing permissions and\n",
        "# limitations under the License."
      ],
      "execution_count": null,
      "outputs": []
    },
    {
      "cell_type": "markdown",
      "metadata": {
        "id": "Za8-Nr5k11fh"
      },
      "source": [
        "##### Copyright 2018 The TensorFlow Authors."
      ]
    },
    {
      "cell_type": "code",
      "metadata": {
        "cellView": "form",
        "id": "Eq10uEbw0E4l"
      },
      "source": [
        "#@title Licensed under the Apache License, Version 2.0 (the \"License\");\n",
        "# you may not use this file except in compliance with the License.\n",
        "# You may obtain a copy of the License at\n",
        "#\n",
        "# https://www.apache.org/licenses/LICENSE-2.0\n",
        "#\n",
        "# Unless required by applicable law or agreed to in writing, software\n",
        "# distributed under the License is distributed on an \"AS IS\" BASIS,\n",
        "# WITHOUT WARRANTIES OR CONDITIONS OF ANY KIND, either express or implied.\n",
        "# See the License for the specific language governing permissions and\n",
        "# limitations under the License."
      ],
      "execution_count": 1,
      "outputs": []
    },
    {
      "cell_type": "markdown",
      "metadata": {
        "id": "UysiGN3tGQHY"
      },
      "source": [
        "# Running TFLite Models"
      ]
    },
    {
      "cell_type": "markdown",
      "metadata": {
        "id": "W-VhTkyTGcaQ"
      },
      "source": [
        "## Setup"
      ]
    },
    {
      "cell_type": "code",
      "metadata": {
        "id": "Ll4ii2J9Fea_",
        "colab": {
          "base_uri": "https://localhost:8080/"
        },
        "outputId": "d7a28bd4-08ee-440f-8ee9-9bb74c6b18be"
      },
      "source": [
        "try:\n",
        "    %tensorflow_version 2.x\n",
        "except:\n",
        "    pass"
      ],
      "execution_count": 2,
      "outputs": [
        {
          "output_type": "stream",
          "name": "stdout",
          "text": [
            "Colab only includes TensorFlow 2.x; %tensorflow_version has no effect.\n"
          ]
        }
      ]
    },
    {
      "cell_type": "code",
      "metadata": {
        "id": "dy4BcTjBFTWx",
        "colab": {
          "base_uri": "https://localhost:8080/"
        },
        "outputId": "d11160e6-24ec-4c44-e7d6-93d09b3a9991"
      },
      "source": [
        "import pathlib\n",
        "import numpy as np\n",
        "import matplotlib.pyplot as plt\n",
        "\n",
        "import tensorflow as tf\n",
        "\n",
        "print('\\u2022 Using TensorFlow Version:', tf.__version__)"
      ],
      "execution_count": 3,
      "outputs": [
        {
          "output_type": "stream",
          "name": "stdout",
          "text": [
            "• Using TensorFlow Version: 2.12.0\n"
          ]
        }
      ]
    },
    {
      "cell_type": "markdown",
      "metadata": {
        "id": "ceibQLDeGhI4"
      },
      "source": [
        "## Create a Basic Model of the Form y = mx + c"
      ]
    },
    {
      "cell_type": "code",
      "metadata": {
        "id": "YIBCsjQNF46Z",
        "colab": {
          "base_uri": "https://localhost:8080/"
        },
        "outputId": "894b4393-1557-49fc-cb24-6a80d62d3a0f"
      },
      "source": [
        "# Create a simple Keras model.\n",
        "x = [-1, 0, 1, 2, 3, 4]\n",
        "y = [-3, -1, 1, 3, 5, 7]\n",
        "\n",
        "model = tf.keras.models.Sequential([\n",
        "        tf.keras.layers.Dense(units=1, input_shape=[1])\n",
        "])\n",
        "\n",
        "model.compile(optimizer='sgd',\n",
        "              loss='mean_squared_error')\n",
        "\n",
        "model.fit(x, y, epochs=200)"
      ],
      "execution_count": 4,
      "outputs": [
        {
          "output_type": "stream",
          "name": "stdout",
          "text": [
            "Epoch 1/200\n",
            "1/1 [==============================] - 6s 6s/step - loss: 13.1149\n",
            "Epoch 2/200\n",
            "1/1 [==============================] - 0s 15ms/step - loss: 10.5478\n",
            "Epoch 3/200\n",
            "1/1 [==============================] - 0s 25ms/step - loss: 8.5234\n",
            "Epoch 4/200\n",
            "1/1 [==============================] - 0s 23ms/step - loss: 6.9260\n",
            "Epoch 5/200\n",
            "1/1 [==============================] - 0s 18ms/step - loss: 5.6648\n",
            "Epoch 6/200\n",
            "1/1 [==============================] - 0s 13ms/step - loss: 4.6681\n",
            "Epoch 7/200\n",
            "1/1 [==============================] - 0s 20ms/step - loss: 3.8796\n",
            "Epoch 8/200\n",
            "1/1 [==============================] - 0s 13ms/step - loss: 3.2550\n",
            "Epoch 9/200\n",
            "1/1 [==============================] - 0s 23ms/step - loss: 2.7594\n",
            "Epoch 10/200\n",
            "1/1 [==============================] - 0s 14ms/step - loss: 2.3655\n",
            "Epoch 11/200\n",
            "1/1 [==============================] - 0s 16ms/step - loss: 2.0515\n",
            "Epoch 12/200\n",
            "1/1 [==============================] - 0s 16ms/step - loss: 1.8006\n",
            "Epoch 13/200\n",
            "1/1 [==============================] - 0s 16ms/step - loss: 1.5994\n",
            "Epoch 14/200\n",
            "1/1 [==============================] - 0s 21ms/step - loss: 1.4373\n",
            "Epoch 15/200\n",
            "1/1 [==============================] - 0s 17ms/step - loss: 1.3061\n",
            "Epoch 16/200\n",
            "1/1 [==============================] - 0s 15ms/step - loss: 1.1993\n",
            "Epoch 17/200\n",
            "1/1 [==============================] - 0s 27ms/step - loss: 1.1117\n",
            "Epoch 18/200\n",
            "1/1 [==============================] - 0s 27ms/step - loss: 1.0394\n",
            "Epoch 19/200\n",
            "1/1 [==============================] - 0s 22ms/step - loss: 0.9791\n",
            "Epoch 20/200\n",
            "1/1 [==============================] - 0s 35ms/step - loss: 0.9283\n",
            "Epoch 21/200\n",
            "1/1 [==============================] - 0s 17ms/step - loss: 0.8851\n",
            "Epoch 22/200\n",
            "1/1 [==============================] - 0s 32ms/step - loss: 0.8480\n",
            "Epoch 23/200\n",
            "1/1 [==============================] - 0s 23ms/step - loss: 0.8156\n",
            "Epoch 24/200\n",
            "1/1 [==============================] - 0s 11ms/step - loss: 0.7871\n",
            "Epoch 25/200\n",
            "1/1 [==============================] - 0s 33ms/step - loss: 0.7617\n",
            "Epoch 26/200\n",
            "1/1 [==============================] - 0s 18ms/step - loss: 0.7388\n",
            "Epoch 27/200\n",
            "1/1 [==============================] - 0s 20ms/step - loss: 0.7179\n",
            "Epoch 28/200\n",
            "1/1 [==============================] - 0s 20ms/step - loss: 0.6987\n",
            "Epoch 29/200\n",
            "1/1 [==============================] - 0s 20ms/step - loss: 0.6808\n",
            "Epoch 30/200\n",
            "1/1 [==============================] - 0s 27ms/step - loss: 0.6640\n",
            "Epoch 31/200\n",
            "1/1 [==============================] - 0s 35ms/step - loss: 0.6482\n",
            "Epoch 32/200\n",
            "1/1 [==============================] - 0s 20ms/step - loss: 0.6332\n",
            "Epoch 33/200\n",
            "1/1 [==============================] - 0s 19ms/step - loss: 0.6188\n",
            "Epoch 34/200\n",
            "1/1 [==============================] - 0s 23ms/step - loss: 0.6050\n",
            "Epoch 35/200\n",
            "1/1 [==============================] - 0s 19ms/step - loss: 0.5917\n",
            "Epoch 36/200\n",
            "1/1 [==============================] - 0s 13ms/step - loss: 0.5789\n",
            "Epoch 37/200\n",
            "1/1 [==============================] - 0s 17ms/step - loss: 0.5665\n",
            "Epoch 38/200\n",
            "1/1 [==============================] - 0s 15ms/step - loss: 0.5545\n",
            "Epoch 39/200\n",
            "1/1 [==============================] - 0s 17ms/step - loss: 0.5428\n",
            "Epoch 40/200\n",
            "1/1 [==============================] - 0s 16ms/step - loss: 0.5314\n",
            "Epoch 41/200\n",
            "1/1 [==============================] - 0s 17ms/step - loss: 0.5202\n",
            "Epoch 42/200\n",
            "1/1 [==============================] - 0s 50ms/step - loss: 0.5094\n",
            "Epoch 43/200\n",
            "1/1 [==============================] - 0s 34ms/step - loss: 0.4988\n",
            "Epoch 44/200\n",
            "1/1 [==============================] - 0s 28ms/step - loss: 0.4885\n",
            "Epoch 45/200\n",
            "1/1 [==============================] - 0s 23ms/step - loss: 0.4784\n",
            "Epoch 46/200\n",
            "1/1 [==============================] - 0s 26ms/step - loss: 0.4685\n",
            "Epoch 47/200\n",
            "1/1 [==============================] - 0s 88ms/step - loss: 0.4588\n",
            "Epoch 48/200\n",
            "1/1 [==============================] - 0s 27ms/step - loss: 0.4493\n",
            "Epoch 49/200\n",
            "1/1 [==============================] - 0s 38ms/step - loss: 0.4401\n",
            "Epoch 50/200\n",
            "1/1 [==============================] - 0s 30ms/step - loss: 0.4310\n",
            "Epoch 51/200\n",
            "1/1 [==============================] - 0s 37ms/step - loss: 0.4222\n",
            "Epoch 52/200\n",
            "1/1 [==============================] - 0s 29ms/step - loss: 0.4135\n",
            "Epoch 53/200\n",
            "1/1 [==============================] - 0s 34ms/step - loss: 0.4050\n",
            "Epoch 54/200\n",
            "1/1 [==============================] - 0s 30ms/step - loss: 0.3966\n",
            "Epoch 55/200\n",
            "1/1 [==============================] - 0s 29ms/step - loss: 0.3885\n",
            "Epoch 56/200\n",
            "1/1 [==============================] - 0s 34ms/step - loss: 0.3805\n",
            "Epoch 57/200\n",
            "1/1 [==============================] - 0s 31ms/step - loss: 0.3727\n",
            "Epoch 58/200\n",
            "1/1 [==============================] - 0s 40ms/step - loss: 0.3650\n",
            "Epoch 59/200\n",
            "1/1 [==============================] - 0s 33ms/step - loss: 0.3575\n",
            "Epoch 60/200\n",
            "1/1 [==============================] - 0s 14ms/step - loss: 0.3502\n",
            "Epoch 61/200\n",
            "1/1 [==============================] - 0s 57ms/step - loss: 0.3430\n",
            "Epoch 62/200\n",
            "1/1 [==============================] - 0s 23ms/step - loss: 0.3359\n",
            "Epoch 63/200\n",
            "1/1 [==============================] - 0s 43ms/step - loss: 0.3290\n",
            "Epoch 64/200\n",
            "1/1 [==============================] - 0s 22ms/step - loss: 0.3223\n",
            "Epoch 65/200\n",
            "1/1 [==============================] - 0s 28ms/step - loss: 0.3157\n",
            "Epoch 66/200\n",
            "1/1 [==============================] - 0s 41ms/step - loss: 0.3092\n",
            "Epoch 67/200\n",
            "1/1 [==============================] - 0s 34ms/step - loss: 0.3028\n",
            "Epoch 68/200\n",
            "1/1 [==============================] - 0s 32ms/step - loss: 0.2966\n",
            "Epoch 69/200\n",
            "1/1 [==============================] - 0s 41ms/step - loss: 0.2905\n",
            "Epoch 70/200\n",
            "1/1 [==============================] - 0s 24ms/step - loss: 0.2845\n",
            "Epoch 71/200\n",
            "1/1 [==============================] - 0s 34ms/step - loss: 0.2787\n",
            "Epoch 72/200\n",
            "1/1 [==============================] - 0s 21ms/step - loss: 0.2730\n",
            "Epoch 73/200\n",
            "1/1 [==============================] - 0s 17ms/step - loss: 0.2674\n",
            "Epoch 74/200\n",
            "1/1 [==============================] - 0s 19ms/step - loss: 0.2619\n",
            "Epoch 75/200\n",
            "1/1 [==============================] - 0s 20ms/step - loss: 0.2565\n",
            "Epoch 76/200\n",
            "1/1 [==============================] - 0s 40ms/step - loss: 0.2512\n",
            "Epoch 77/200\n",
            "1/1 [==============================] - 0s 23ms/step - loss: 0.2461\n",
            "Epoch 78/200\n",
            "1/1 [==============================] - 0s 36ms/step - loss: 0.2410\n",
            "Epoch 79/200\n",
            "1/1 [==============================] - 0s 25ms/step - loss: 0.2361\n",
            "Epoch 80/200\n",
            "1/1 [==============================] - 0s 18ms/step - loss: 0.2312\n",
            "Epoch 81/200\n",
            "1/1 [==============================] - 0s 22ms/step - loss: 0.2265\n",
            "Epoch 82/200\n",
            "1/1 [==============================] - 0s 18ms/step - loss: 0.2218\n",
            "Epoch 83/200\n",
            "1/1 [==============================] - 0s 34ms/step - loss: 0.2173\n",
            "Epoch 84/200\n",
            "1/1 [==============================] - 0s 15ms/step - loss: 0.2128\n",
            "Epoch 85/200\n",
            "1/1 [==============================] - 0s 20ms/step - loss: 0.2084\n",
            "Epoch 86/200\n",
            "1/1 [==============================] - 0s 18ms/step - loss: 0.2041\n",
            "Epoch 87/200\n",
            "1/1 [==============================] - 0s 29ms/step - loss: 0.1999\n",
            "Epoch 88/200\n",
            "1/1 [==============================] - 0s 19ms/step - loss: 0.1958\n",
            "Epoch 89/200\n",
            "1/1 [==============================] - 0s 43ms/step - loss: 0.1918\n",
            "Epoch 90/200\n",
            "1/1 [==============================] - 0s 37ms/step - loss: 0.1879\n",
            "Epoch 91/200\n",
            "1/1 [==============================] - 0s 20ms/step - loss: 0.1840\n",
            "Epoch 92/200\n",
            "1/1 [==============================] - 0s 48ms/step - loss: 0.1802\n",
            "Epoch 93/200\n",
            "1/1 [==============================] - 0s 44ms/step - loss: 0.1765\n",
            "Epoch 94/200\n",
            "1/1 [==============================] - 0s 35ms/step - loss: 0.1729\n",
            "Epoch 95/200\n",
            "1/1 [==============================] - 0s 22ms/step - loss: 0.1694\n",
            "Epoch 96/200\n",
            "1/1 [==============================] - 0s 34ms/step - loss: 0.1659\n",
            "Epoch 97/200\n",
            "1/1 [==============================] - 0s 21ms/step - loss: 0.1625\n",
            "Epoch 98/200\n",
            "1/1 [==============================] - 0s 25ms/step - loss: 0.1591\n",
            "Epoch 99/200\n",
            "1/1 [==============================] - 0s 14ms/step - loss: 0.1559\n",
            "Epoch 100/200\n",
            "1/1 [==============================] - 0s 41ms/step - loss: 0.1527\n",
            "Epoch 101/200\n",
            "1/1 [==============================] - 0s 21ms/step - loss: 0.1495\n",
            "Epoch 102/200\n",
            "1/1 [==============================] - 0s 16ms/step - loss: 0.1465\n",
            "Epoch 103/200\n",
            "1/1 [==============================] - 0s 27ms/step - loss: 0.1434\n",
            "Epoch 104/200\n",
            "1/1 [==============================] - 0s 21ms/step - loss: 0.1405\n",
            "Epoch 105/200\n",
            "1/1 [==============================] - 0s 20ms/step - loss: 0.1376\n",
            "Epoch 106/200\n",
            "1/1 [==============================] - 0s 32ms/step - loss: 0.1348\n",
            "Epoch 107/200\n",
            "1/1 [==============================] - 0s 33ms/step - loss: 0.1320\n",
            "Epoch 108/200\n",
            "1/1 [==============================] - 0s 24ms/step - loss: 0.1293\n",
            "Epoch 109/200\n",
            "1/1 [==============================] - 0s 52ms/step - loss: 0.1267\n",
            "Epoch 110/200\n",
            "1/1 [==============================] - 0s 20ms/step - loss: 0.1240\n",
            "Epoch 111/200\n",
            "1/1 [==============================] - 0s 13ms/step - loss: 0.1215\n",
            "Epoch 112/200\n",
            "1/1 [==============================] - 0s 27ms/step - loss: 0.1190\n",
            "Epoch 113/200\n",
            "1/1 [==============================] - 0s 26ms/step - loss: 0.1166\n",
            "Epoch 114/200\n",
            "1/1 [==============================] - 0s 23ms/step - loss: 0.1142\n",
            "Epoch 115/200\n",
            "1/1 [==============================] - 0s 18ms/step - loss: 0.1118\n",
            "Epoch 116/200\n",
            "1/1 [==============================] - 0s 31ms/step - loss: 0.1095\n",
            "Epoch 117/200\n",
            "1/1 [==============================] - 0s 32ms/step - loss: 0.1073\n",
            "Epoch 118/200\n",
            "1/1 [==============================] - 0s 16ms/step - loss: 0.1051\n",
            "Epoch 119/200\n",
            "1/1 [==============================] - 0s 22ms/step - loss: 0.1029\n",
            "Epoch 120/200\n",
            "1/1 [==============================] - 0s 22ms/step - loss: 0.1008\n",
            "Epoch 121/200\n",
            "1/1 [==============================] - 0s 25ms/step - loss: 0.0987\n",
            "Epoch 122/200\n",
            "1/1 [==============================] - 0s 16ms/step - loss: 0.0967\n",
            "Epoch 123/200\n",
            "1/1 [==============================] - 0s 18ms/step - loss: 0.0947\n",
            "Epoch 124/200\n",
            "1/1 [==============================] - 0s 26ms/step - loss: 0.0928\n",
            "Epoch 125/200\n",
            "1/1 [==============================] - 0s 25ms/step - loss: 0.0909\n",
            "Epoch 126/200\n",
            "1/1 [==============================] - 0s 25ms/step - loss: 0.0890\n",
            "Epoch 127/200\n",
            "1/1 [==============================] - 0s 19ms/step - loss: 0.0872\n",
            "Epoch 128/200\n",
            "1/1 [==============================] - 0s 31ms/step - loss: 0.0854\n",
            "Epoch 129/200\n",
            "1/1 [==============================] - 0s 14ms/step - loss: 0.0836\n",
            "Epoch 130/200\n",
            "1/1 [==============================] - 0s 18ms/step - loss: 0.0819\n",
            "Epoch 131/200\n",
            "1/1 [==============================] - 0s 15ms/step - loss: 0.0802\n",
            "Epoch 132/200\n",
            "1/1 [==============================] - 0s 21ms/step - loss: 0.0786\n",
            "Epoch 133/200\n",
            "1/1 [==============================] - 0s 41ms/step - loss: 0.0770\n",
            "Epoch 134/200\n",
            "1/1 [==============================] - 0s 18ms/step - loss: 0.0754\n",
            "Epoch 135/200\n",
            "1/1 [==============================] - 0s 34ms/step - loss: 0.0738\n",
            "Epoch 136/200\n",
            "1/1 [==============================] - 0s 17ms/step - loss: 0.0723\n",
            "Epoch 137/200\n",
            "1/1 [==============================] - 0s 23ms/step - loss: 0.0708\n",
            "Epoch 138/200\n",
            "1/1 [==============================] - 0s 17ms/step - loss: 0.0694\n",
            "Epoch 139/200\n",
            "1/1 [==============================] - 0s 19ms/step - loss: 0.0680\n",
            "Epoch 140/200\n",
            "1/1 [==============================] - 0s 15ms/step - loss: 0.0666\n",
            "Epoch 141/200\n",
            "1/1 [==============================] - 0s 14ms/step - loss: 0.0652\n",
            "Epoch 142/200\n",
            "1/1 [==============================] - 0s 16ms/step - loss: 0.0639\n",
            "Epoch 143/200\n",
            "1/1 [==============================] - 0s 12ms/step - loss: 0.0625\n",
            "Epoch 144/200\n",
            "1/1 [==============================] - 0s 21ms/step - loss: 0.0613\n",
            "Epoch 145/200\n",
            "1/1 [==============================] - 0s 16ms/step - loss: 0.0600\n",
            "Epoch 146/200\n",
            "1/1 [==============================] - 0s 10ms/step - loss: 0.0588\n",
            "Epoch 147/200\n",
            "1/1 [==============================] - 0s 13ms/step - loss: 0.0576\n",
            "Epoch 148/200\n",
            "1/1 [==============================] - 0s 11ms/step - loss: 0.0564\n",
            "Epoch 149/200\n",
            "1/1 [==============================] - 0s 13ms/step - loss: 0.0552\n",
            "Epoch 150/200\n",
            "1/1 [==============================] - 0s 12ms/step - loss: 0.0541\n",
            "Epoch 151/200\n",
            "1/1 [==============================] - 0s 12ms/step - loss: 0.0530\n",
            "Epoch 152/200\n",
            "1/1 [==============================] - 0s 13ms/step - loss: 0.0519\n",
            "Epoch 153/200\n",
            "1/1 [==============================] - 0s 17ms/step - loss: 0.0508\n",
            "Epoch 154/200\n",
            "1/1 [==============================] - 0s 12ms/step - loss: 0.0498\n",
            "Epoch 155/200\n",
            "1/1 [==============================] - 0s 12ms/step - loss: 0.0488\n",
            "Epoch 156/200\n",
            "1/1 [==============================] - 0s 11ms/step - loss: 0.0477\n",
            "Epoch 157/200\n",
            "1/1 [==============================] - 0s 17ms/step - loss: 0.0468\n",
            "Epoch 158/200\n",
            "1/1 [==============================] - 0s 12ms/step - loss: 0.0458\n",
            "Epoch 159/200\n",
            "1/1 [==============================] - 0s 9ms/step - loss: 0.0449\n",
            "Epoch 160/200\n",
            "1/1 [==============================] - 0s 13ms/step - loss: 0.0439\n",
            "Epoch 161/200\n",
            "1/1 [==============================] - 0s 14ms/step - loss: 0.0430\n",
            "Epoch 162/200\n",
            "1/1 [==============================] - 0s 13ms/step - loss: 0.0422\n",
            "Epoch 163/200\n",
            "1/1 [==============================] - 0s 13ms/step - loss: 0.0413\n",
            "Epoch 164/200\n",
            "1/1 [==============================] - 0s 14ms/step - loss: 0.0404\n",
            "Epoch 165/200\n",
            "1/1 [==============================] - 0s 13ms/step - loss: 0.0396\n",
            "Epoch 166/200\n",
            "1/1 [==============================] - 0s 12ms/step - loss: 0.0388\n",
            "Epoch 167/200\n",
            "1/1 [==============================] - 0s 11ms/step - loss: 0.0380\n",
            "Epoch 168/200\n",
            "1/1 [==============================] - 0s 12ms/step - loss: 0.0372\n",
            "Epoch 169/200\n",
            "1/1 [==============================] - 0s 17ms/step - loss: 0.0365\n",
            "Epoch 170/200\n",
            "1/1 [==============================] - 0s 13ms/step - loss: 0.0357\n",
            "Epoch 171/200\n",
            "1/1 [==============================] - 0s 13ms/step - loss: 0.0350\n",
            "Epoch 172/200\n",
            "1/1 [==============================] - 0s 13ms/step - loss: 0.0343\n",
            "Epoch 173/200\n",
            "1/1 [==============================] - 0s 12ms/step - loss: 0.0336\n",
            "Epoch 174/200\n",
            "1/1 [==============================] - 0s 11ms/step - loss: 0.0329\n",
            "Epoch 175/200\n",
            "1/1 [==============================] - 0s 13ms/step - loss: 0.0322\n",
            "Epoch 176/200\n",
            "1/1 [==============================] - 0s 10ms/step - loss: 0.0315\n",
            "Epoch 177/200\n",
            "1/1 [==============================] - 0s 13ms/step - loss: 0.0309\n",
            "Epoch 178/200\n",
            "1/1 [==============================] - 0s 13ms/step - loss: 0.0302\n",
            "Epoch 179/200\n",
            "1/1 [==============================] - 0s 13ms/step - loss: 0.0296\n",
            "Epoch 180/200\n",
            "1/1 [==============================] - 0s 12ms/step - loss: 0.0290\n",
            "Epoch 181/200\n",
            "1/1 [==============================] - 0s 12ms/step - loss: 0.0284\n",
            "Epoch 182/200\n",
            "1/1 [==============================] - 0s 14ms/step - loss: 0.0278\n",
            "Epoch 183/200\n",
            "1/1 [==============================] - 0s 12ms/step - loss: 0.0273\n",
            "Epoch 184/200\n",
            "1/1 [==============================] - 0s 12ms/step - loss: 0.0267\n",
            "Epoch 185/200\n",
            "1/1 [==============================] - 0s 13ms/step - loss: 0.0262\n",
            "Epoch 186/200\n",
            "1/1 [==============================] - 0s 13ms/step - loss: 0.0256\n",
            "Epoch 187/200\n",
            "1/1 [==============================] - 0s 14ms/step - loss: 0.0251\n",
            "Epoch 188/200\n",
            "1/1 [==============================] - 0s 14ms/step - loss: 0.0246\n",
            "Epoch 189/200\n",
            "1/1 [==============================] - 0s 13ms/step - loss: 0.0241\n",
            "Epoch 190/200\n",
            "1/1 [==============================] - 0s 12ms/step - loss: 0.0236\n",
            "Epoch 191/200\n",
            "1/1 [==============================] - 0s 11ms/step - loss: 0.0231\n",
            "Epoch 192/200\n",
            "1/1 [==============================] - 0s 13ms/step - loss: 0.0226\n",
            "Epoch 193/200\n",
            "1/1 [==============================] - 0s 12ms/step - loss: 0.0222\n",
            "Epoch 194/200\n",
            "1/1 [==============================] - 0s 12ms/step - loss: 0.0217\n",
            "Epoch 195/200\n",
            "1/1 [==============================] - 0s 13ms/step - loss: 0.0213\n",
            "Epoch 196/200\n",
            "1/1 [==============================] - 0s 12ms/step - loss: 0.0208\n",
            "Epoch 197/200\n",
            "1/1 [==============================] - 0s 13ms/step - loss: 0.0204\n",
            "Epoch 198/200\n",
            "1/1 [==============================] - 0s 12ms/step - loss: 0.0200\n",
            "Epoch 199/200\n",
            "1/1 [==============================] - 0s 18ms/step - loss: 0.0196\n",
            "Epoch 200/200\n",
            "1/1 [==============================] - 0s 19ms/step - loss: 0.0192\n"
          ]
        },
        {
          "output_type": "execute_result",
          "data": {
            "text/plain": [
              "<keras.callbacks.History at 0x7fa95816a800>"
            ]
          },
          "metadata": {},
          "execution_count": 4
        }
      ]
    },
    {
      "cell_type": "markdown",
      "metadata": {
        "id": "EjsB-QICGt6L"
      },
      "source": [
        "## Generate a SavedModel"
      ]
    },
    {
      "cell_type": "code",
      "metadata": {
        "id": "a9xcbK7QHOfm"
      },
      "source": [
        "export_dir = 'saved_model/1'\n",
        "tf.saved_model.save(model, export_dir)"
      ],
      "execution_count": 5,
      "outputs": []
    },
    {
      "cell_type": "markdown",
      "metadata": {
        "id": "RRtsNwkiGxcO"
      },
      "source": [
        "## Convert the SavedModel to TFLite"
      ]
    },
    {
      "cell_type": "code",
      "metadata": {
        "id": "TtM8yKTVTpD3"
      },
      "source": [
        "# Convert the model.\n",
        "converter = tf.lite.TFLiteConverter.from_saved_model(export_dir)\n",
        "tflite_model = converter.convert()"
      ],
      "execution_count": 6,
      "outputs": []
    },
    {
      "cell_type": "code",
      "metadata": {
        "id": "4idYulcNHTdO",
        "colab": {
          "base_uri": "https://localhost:8080/"
        },
        "outputId": "f3f0f3b3-7fad-4777-c38a-b3934d27cba7"
      },
      "source": [
        "tflite_model_file = pathlib.Path('model.tflite')\n",
        "tflite_model_file.write_bytes(tflite_model)"
      ],
      "execution_count": 7,
      "outputs": [
        {
          "output_type": "execute_result",
          "data": {
            "text/plain": [
              "1080"
            ]
          },
          "metadata": {},
          "execution_count": 7
        }
      ]
    },
    {
      "cell_type": "markdown",
      "metadata": {
        "id": "HgGvp2yBG25Q"
      },
      "source": [
        "## Initialize the TFLite Interpreter To Try It Out"
      ]
    },
    {
      "cell_type": "code",
      "metadata": {
        "id": "DOt94wIWF8m7"
      },
      "source": [
        "# Load TFLite model and allocate tensors.\n",
        "interpreter = tf.lite.Interpreter(model_content=tflite_model)\n",
        "interpreter.allocate_tensors()\n",
        "\n",
        "# Get input and output tensors.\n",
        "input_details = interpreter.get_input_details()\n",
        "output_details = interpreter.get_output_details()"
      ],
      "execution_count": 8,
      "outputs": []
    },
    {
      "cell_type": "code",
      "metadata": {
        "id": "JGYkEK08F8qK"
      },
      "source": [
        "# Test the TensorFlow Lite model on random input data.\n",
        "input_shape = input_details[0]['shape']\n",
        "inputs, outputs = [], []\n",
        "for _ in range(100):\n",
        "    input_data = np.array(np.random.random_sample(input_shape), dtype=np.float32)\n",
        "    interpreter.set_tensor(input_details[0]['index'], input_data)\n",
        "    \n",
        "    interpreter.invoke()\n",
        "    tflite_results = interpreter.get_tensor(output_details[0]['index'])\n",
        "    \n",
        "    # Test the TensorFlow model on random input data.\n",
        "    tf_results = model(tf.constant(input_data))\n",
        "    output_data = np.array(tf_results)\n",
        "    \n",
        "    inputs.append(input_data[0][0])\n",
        "    outputs.append(output_data[0][0])"
      ],
      "execution_count": 9,
      "outputs": []
    },
    {
      "cell_type": "markdown",
      "metadata": {
        "id": "t1gQGH1KWAgW"
      },
      "source": [
        "## Visualize the Model"
      ]
    },
    {
      "cell_type": "code",
      "metadata": {
        "id": "ccvQ1mEJVrqo",
        "colab": {
          "base_uri": "https://localhost:8080/",
          "height": 430
        },
        "outputId": "827bd1b0-9b28-4b7a-9df2-03e01853b742"
      },
      "source": [
        "%matplotlib inline\n",
        "\n",
        "plt.plot(inputs, outputs, 'r')\n",
        "plt.show()"
      ],
      "execution_count": 10,
      "outputs": [
        {
          "output_type": "display_data",
          "data": {
            "text/plain": [
              "<Figure size 640x480 with 1 Axes>"
            ],
            "image/png": "[encoded data removed]"
          },
          "metadata": {}
        }
      ]
    },
    {
      "cell_type": "markdown",
      "metadata": {
        "id": "WbugMH6yKvtd"
      },
      "source": [
        "## Download the TFLite Model File\n",
        "\n",
        "If you are running this notebook in a Colab, you can run the cell below to download the tflite model to your local disk. \n",
        "\n",
        "**Note**: If the file does not download when you run the cell, try running the cell a second time."
      ]
    },
    {
      "cell_type": "code",
      "metadata": {
        "id": "FOAIMETeJmkc",
        "colab": {
          "base_uri": "https://localhost:8080/",
          "height": 17
        },
        "outputId": "a145e2ec-608f-4521-9b6f-c804b95976d5"
      },
      "source": [
        "try:\n",
        "    from google.colab import files\n",
        "    files.download(tflite_model_file)\n",
        "except:\n",
        "    pass"
      ],
      "execution_count": 11,
      "outputs": [
        {
          "output_type": "display_data",
          "data": {
            "text/plain": [
              "<IPython.core.display.Javascript object>"
            ],
            "application/javascript": [
              "\n",
              "    async function download(id, filename, size) {\n",
              "      if (!google.colab.kernel.accessAllowed) {\n",
              "        return;\n",
              "      }\n",
              "      const div = document.createElement('div');\n",
              "      const label = document.createElement('label');\n",
              "      label.textContent = `Downloading \"${filename}\": `;\n",
              "      div.appendChild(label);\n",
              "      const progress = document.createElement('progress');\n",
              "      progress.max = size;\n",
              "      div.appendChild(progress);\n",
              "      document.body.appendChild(div);\n",
              "\n",
              "      const buffers = [];\n",
              "      let downloaded = 0;\n",
              "\n",
              "      const channel = await google.colab.kernel.comms.open(id);\n",
              "      // Send a message to notify the kernel that we're ready.\n",
              "      channel.send({})\n",
              "\n",
              "      for await (const message of channel.messages) {\n",
              "        // Send a message to notify the kernel that we're ready.\n",
              "        channel.send({})\n",
              "        if (message.buffers) {\n",
              "          for (const buffer of message.buffers) {\n",
              "            buffers.push(buffer);\n",
              "            downloaded += buffer.byteLength;\n",
              "            progress.value = downloaded;\n",
              "          }\n",
              "        }\n",
              "      }\n",
              "      const blob = new Blob(buffers, {type: 'application/binary'});\n",
              "      const a = document.createElement('a');\n",
              "      a.href = window.URL.createObjectURL(blob);\n",
              "      a.download = filename;\n",
              "      div.appendChild(a);\n",
              "      a.click();\n",
              "      div.remove();\n",
              "    }\n",
              "  "
            ]
          },
          "metadata": {}
        },
        {
          "output_type": "display_data",
          "data": {
            "text/plain": [
              "<IPython.core.display.Javascript object>"
            ],
            "application/javascript": [
              "download(\"download_8acdd0ff-a7c6-4d24-8588-032536512547\", \"model.tflite\", 1080)"
            ]
          },
          "metadata": {}
        }
      ]
    }
  ]
}